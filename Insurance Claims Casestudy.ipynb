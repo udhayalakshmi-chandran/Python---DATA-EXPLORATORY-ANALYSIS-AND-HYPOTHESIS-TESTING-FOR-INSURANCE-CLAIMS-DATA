{
 "cells": [
  {
   "cell_type": "code",
   "execution_count": 1,
   "id": "67e735fe",
   "metadata": {},
   "outputs": [],
   "source": [
    "#Import packages\n",
    "\n",
    "import pandas as pd\n",
    "import numpy as np\n",
    "import matplotlib.pyplot as plt\n",
    "import datetime as dt\n",
    "import re\n",
    "import seaborn as sns\n",
    "import scipy.stats as stats"
   ]
  },
  {
   "cell_type": "code",
   "execution_count": 2,
   "id": "eeb65437",
   "metadata": {},
   "outputs": [],
   "source": [
    "#1. Import claims_data.csv and cust_data.csv which is provided to you and combine the two datasets appropriately to create\n",
    "#a 360-degree view of the data. Use the same for the subsequent questions."
   ]
  },
  {
   "cell_type": "code",
   "execution_count": 3,
   "id": "66af11be",
   "metadata": {},
   "outputs": [],
   "source": [
    "cust = pd.read_csv('C://Users//sandisk//Downloads//DataScience using PYTHON//Case Studies//Python Foundation Case Study 3 - Insurance Claims Case Study//Case Study 3 - Insurance Claims Case Study//cust_demographics.csv//')"
   ]
  },
  {
   "cell_type": "code",
   "execution_count": 4,
   "id": "35942fca",
   "metadata": {},
   "outputs": [],
   "source": [
    "claims = pd.read_csv('C://Users//sandisk//Downloads//DataScience using PYTHON//Case Studies//Python Foundation Case Study 3 - Insurance Claims Case Study//Case Study 3 - Insurance Claims Case Study//claims.csv//')"
   ]
  },
  {
   "cell_type": "code",
   "execution_count": 5,
   "id": "e6634246",
   "metadata": {},
   "outputs": [
    {
     "data": {
      "text/html": [
       "<div>\n",
       "<style scoped>\n",
       "    .dataframe tbody tr th:only-of-type {\n",
       "        vertical-align: middle;\n",
       "    }\n",
       "\n",
       "    .dataframe tbody tr th {\n",
       "        vertical-align: top;\n",
       "    }\n",
       "\n",
       "    .dataframe thead th {\n",
       "        text-align: right;\n",
       "    }\n",
       "</style>\n",
       "<table border=\"1\" class=\"dataframe\">\n",
       "  <thead>\n",
       "    <tr style=\"text-align: right;\">\n",
       "      <th></th>\n",
       "      <th>CUST_ID</th>\n",
       "      <th>gender</th>\n",
       "      <th>DateOfBirth</th>\n",
       "      <th>State</th>\n",
       "      <th>Contact</th>\n",
       "      <th>Segment</th>\n",
       "    </tr>\n",
       "  </thead>\n",
       "  <tbody>\n",
       "    <tr>\n",
       "      <th>1060</th>\n",
       "      <td>30119782</td>\n",
       "      <td>Female</td>\n",
       "      <td>11-Jun-90</td>\n",
       "      <td>WA</td>\n",
       "      <td>753-397-4823</td>\n",
       "      <td>Gold</td>\n",
       "    </tr>\n",
       "    <tr>\n",
       "      <th>139</th>\n",
       "      <td>30227653</td>\n",
       "      <td>Female</td>\n",
       "      <td>01-Aug-81</td>\n",
       "      <td>CT</td>\n",
       "      <td>945-734-2691</td>\n",
       "      <td>Silver</td>\n",
       "    </tr>\n",
       "    <tr>\n",
       "      <th>132</th>\n",
       "      <td>62476442</td>\n",
       "      <td>Female</td>\n",
       "      <td>27-Jun-85</td>\n",
       "      <td>HI</td>\n",
       "      <td>528-237-8379</td>\n",
       "      <td>Silver</td>\n",
       "    </tr>\n",
       "    <tr>\n",
       "      <th>1032</th>\n",
       "      <td>91002298</td>\n",
       "      <td>Male</td>\n",
       "      <td>09-Apr-98</td>\n",
       "      <td>MA</td>\n",
       "      <td>349-124-3976</td>\n",
       "      <td>Gold</td>\n",
       "    </tr>\n",
       "    <tr>\n",
       "      <th>413</th>\n",
       "      <td>77570823</td>\n",
       "      <td>Female</td>\n",
       "      <td>20-Dec-63</td>\n",
       "      <td>AL</td>\n",
       "      <td>846-573-6251</td>\n",
       "      <td>Platinum</td>\n",
       "    </tr>\n",
       "  </tbody>\n",
       "</table>\n",
       "</div>"
      ],
      "text/plain": [
       "       CUST_ID  gender DateOfBirth State       Contact   Segment\n",
       "1060  30119782  Female   11-Jun-90    WA  753-397-4823      Gold\n",
       "139   30227653  Female   01-Aug-81    CT  945-734-2691    Silver\n",
       "132   62476442  Female   27-Jun-85    HI  528-237-8379    Silver\n",
       "1032  91002298    Male   09-Apr-98    MA  349-124-3976      Gold\n",
       "413   77570823  Female   20-Dec-63    AL  846-573-6251  Platinum"
      ]
     },
     "execution_count": 5,
     "metadata": {},
     "output_type": "execute_result"
    }
   ],
   "source": [
    "cust.sample(5)"
   ]
  },
  {
   "cell_type": "code",
   "execution_count": 6,
   "id": "e864038e",
   "metadata": {},
   "outputs": [
    {
     "data": {
      "text/html": [
       "<div>\n",
       "<style scoped>\n",
       "    .dataframe tbody tr th:only-of-type {\n",
       "        vertical-align: middle;\n",
       "    }\n",
       "\n",
       "    .dataframe tbody tr th {\n",
       "        vertical-align: top;\n",
       "    }\n",
       "\n",
       "    .dataframe thead th {\n",
       "        text-align: right;\n",
       "    }\n",
       "</style>\n",
       "<table border=\"1\" class=\"dataframe\">\n",
       "  <thead>\n",
       "    <tr style=\"text-align: right;\">\n",
       "      <th></th>\n",
       "      <th>claim_id</th>\n",
       "      <th>customer_id</th>\n",
       "      <th>incident_cause</th>\n",
       "      <th>claim_date</th>\n",
       "      <th>claim_area</th>\n",
       "      <th>police_report</th>\n",
       "      <th>claim_type</th>\n",
       "      <th>claim_amount</th>\n",
       "      <th>total_policy_claims</th>\n",
       "      <th>fraudulent</th>\n",
       "    </tr>\n",
       "  </thead>\n",
       "  <tbody>\n",
       "    <tr>\n",
       "      <th>1079</th>\n",
       "      <td>72025178</td>\n",
       "      <td>46850495</td>\n",
       "      <td>Other causes</td>\n",
       "      <td>11/27/2017</td>\n",
       "      <td>Auto</td>\n",
       "      <td>Yes</td>\n",
       "      <td>Material only</td>\n",
       "      <td>$2173.5</td>\n",
       "      <td>1.0</td>\n",
       "      <td>Yes</td>\n",
       "    </tr>\n",
       "    <tr>\n",
       "      <th>979</th>\n",
       "      <td>79750669</td>\n",
       "      <td>3915010</td>\n",
       "      <td>Other causes</td>\n",
       "      <td>10/16/2018</td>\n",
       "      <td>Auto</td>\n",
       "      <td>Unknown</td>\n",
       "      <td>Material and injury</td>\n",
       "      <td>$19820</td>\n",
       "      <td>1.0</td>\n",
       "      <td>No</td>\n",
       "    </tr>\n",
       "    <tr>\n",
       "      <th>670</th>\n",
       "      <td>15510973</td>\n",
       "      <td>55982230</td>\n",
       "      <td>Other driver error</td>\n",
       "      <td>01/06/2018</td>\n",
       "      <td>Auto</td>\n",
       "      <td>Unknown</td>\n",
       "      <td>Material and injury</td>\n",
       "      <td>$29428.5</td>\n",
       "      <td>1.0</td>\n",
       "      <td>Yes</td>\n",
       "    </tr>\n",
       "    <tr>\n",
       "      <th>1044</th>\n",
       "      <td>50618311</td>\n",
       "      <td>69608621</td>\n",
       "      <td>Other causes</td>\n",
       "      <td>07/08/2017</td>\n",
       "      <td>Auto</td>\n",
       "      <td>No</td>\n",
       "      <td>Material only</td>\n",
       "      <td>$1357</td>\n",
       "      <td>1.0</td>\n",
       "      <td>Yes</td>\n",
       "    </tr>\n",
       "    <tr>\n",
       "      <th>411</th>\n",
       "      <td>48509529</td>\n",
       "      <td>53260501</td>\n",
       "      <td>Natural causes</td>\n",
       "      <td>03/02/2017</td>\n",
       "      <td>Auto</td>\n",
       "      <td>No</td>\n",
       "      <td>Material only</td>\n",
       "      <td>$1000</td>\n",
       "      <td>1.0</td>\n",
       "      <td>No</td>\n",
       "    </tr>\n",
       "  </tbody>\n",
       "</table>\n",
       "</div>"
      ],
      "text/plain": [
       "      claim_id  customer_id      incident_cause  claim_date claim_area  \\\n",
       "1079  72025178     46850495        Other causes  11/27/2017       Auto   \n",
       "979   79750669      3915010        Other causes  10/16/2018       Auto   \n",
       "670   15510973     55982230  Other driver error  01/06/2018       Auto   \n",
       "1044  50618311     69608621        Other causes  07/08/2017       Auto   \n",
       "411   48509529     53260501      Natural causes  03/02/2017       Auto   \n",
       "\n",
       "     police_report           claim_type claim_amount  total_policy_claims  \\\n",
       "1079           Yes        Material only      $2173.5                  1.0   \n",
       "979        Unknown  Material and injury       $19820                  1.0   \n",
       "670        Unknown  Material and injury     $29428.5                  1.0   \n",
       "1044            No        Material only        $1357                  1.0   \n",
       "411             No        Material only        $1000                  1.0   \n",
       "\n",
       "     fraudulent  \n",
       "1079        Yes  \n",
       "979          No  \n",
       "670         Yes  \n",
       "1044        Yes  \n",
       "411          No  "
      ]
     },
     "execution_count": 6,
     "metadata": {},
     "output_type": "execute_result"
    }
   ],
   "source": [
    "claims.sample(5)"
   ]
  },
  {
   "cell_type": "code",
   "execution_count": 7,
   "id": "ade8c6fa",
   "metadata": {},
   "outputs": [
    {
     "data": {
      "text/plain": [
       "0"
      ]
     },
     "execution_count": 7,
     "metadata": {},
     "output_type": "execute_result"
    }
   ],
   "source": [
    "cust.duplicated().sum()"
   ]
  },
  {
   "cell_type": "code",
   "execution_count": 8,
   "id": "b0d40bdc",
   "metadata": {},
   "outputs": [
    {
     "data": {
      "text/plain": [
       "0"
      ]
     },
     "execution_count": 8,
     "metadata": {},
     "output_type": "execute_result"
    }
   ],
   "source": [
    "claims.duplicated().sum()"
   ]
  },
  {
   "cell_type": "code",
   "execution_count": 9,
   "id": "bf1153ec",
   "metadata": {},
   "outputs": [
    {
     "data": {
      "text/plain": [
       "CUST_ID         int64\n",
       "gender         object\n",
       "DateOfBirth    object\n",
       "State          object\n",
       "Contact        object\n",
       "Segment        object\n",
       "dtype: object"
      ]
     },
     "execution_count": 9,
     "metadata": {},
     "output_type": "execute_result"
    }
   ],
   "source": [
    "cust.dtypes"
   ]
  },
  {
   "cell_type": "code",
   "execution_count": 10,
   "id": "7129fa95",
   "metadata": {},
   "outputs": [
    {
     "data": {
      "text/plain": [
       "claim_id                 int64\n",
       "customer_id              int64\n",
       "incident_cause          object\n",
       "claim_date              object\n",
       "claim_area              object\n",
       "police_report           object\n",
       "claim_type              object\n",
       "claim_amount            object\n",
       "total_policy_claims    float64\n",
       "fraudulent              object\n",
       "dtype: object"
      ]
     },
     "execution_count": 10,
     "metadata": {},
     "output_type": "execute_result"
    }
   ],
   "source": [
    "claims.dtypes"
   ]
  },
  {
   "cell_type": "code",
   "execution_count": 11,
   "id": "fe393506",
   "metadata": {},
   "outputs": [
    {
     "data": {
      "text/plain": [
       "claim_id                0\n",
       "customer_id             0\n",
       "incident_cause          0\n",
       "claim_date              0\n",
       "claim_area              0\n",
       "police_report           0\n",
       "claim_type              0\n",
       "claim_amount           65\n",
       "total_policy_claims    10\n",
       "fraudulent              0\n",
       "dtype: int64"
      ]
     },
     "execution_count": 11,
     "metadata": {},
     "output_type": "execute_result"
    }
   ],
   "source": [
    "claims.isna().sum()"
   ]
  },
  {
   "cell_type": "code",
   "execution_count": 12,
   "id": "99f0bc97",
   "metadata": {},
   "outputs": [
    {
     "data": {
      "text/plain": [
       "CUST_ID        0\n",
       "gender         0\n",
       "DateOfBirth    0\n",
       "State          0\n",
       "Contact        0\n",
       "Segment        0\n",
       "dtype: int64"
      ]
     },
     "execution_count": 12,
     "metadata": {},
     "output_type": "execute_result"
    }
   ],
   "source": [
    "cust.isna().sum()"
   ]
  },
  {
   "cell_type": "code",
   "execution_count": 13,
   "id": "655fcdb1",
   "metadata": {},
   "outputs": [],
   "source": [
    "df = pd.merge(cust, claims, left_on = 'CUST_ID', right_on = 'customer_id', how = 'outer')"
   ]
  },
  {
   "cell_type": "code",
   "execution_count": 14,
   "id": "6f946a25",
   "metadata": {},
   "outputs": [
    {
     "data": {
      "text/html": [
       "<div>\n",
       "<style scoped>\n",
       "    .dataframe tbody tr th:only-of-type {\n",
       "        vertical-align: middle;\n",
       "    }\n",
       "\n",
       "    .dataframe tbody tr th {\n",
       "        vertical-align: top;\n",
       "    }\n",
       "\n",
       "    .dataframe thead th {\n",
       "        text-align: right;\n",
       "    }\n",
       "</style>\n",
       "<table border=\"1\" class=\"dataframe\">\n",
       "  <thead>\n",
       "    <tr style=\"text-align: right;\">\n",
       "      <th></th>\n",
       "      <th>CUST_ID</th>\n",
       "      <th>gender</th>\n",
       "      <th>DateOfBirth</th>\n",
       "      <th>State</th>\n",
       "      <th>Contact</th>\n",
       "      <th>Segment</th>\n",
       "      <th>claim_id</th>\n",
       "      <th>customer_id</th>\n",
       "      <th>incident_cause</th>\n",
       "      <th>claim_date</th>\n",
       "      <th>claim_area</th>\n",
       "      <th>police_report</th>\n",
       "      <th>claim_type</th>\n",
       "      <th>claim_amount</th>\n",
       "      <th>total_policy_claims</th>\n",
       "      <th>fraudulent</th>\n",
       "    </tr>\n",
       "  </thead>\n",
       "  <tbody>\n",
       "    <tr>\n",
       "      <th>0</th>\n",
       "      <td>21868593.0</td>\n",
       "      <td>Female</td>\n",
       "      <td>12-Jan-79</td>\n",
       "      <td>VT</td>\n",
       "      <td>789-916-8172</td>\n",
       "      <td>Platinum</td>\n",
       "      <td>54004764.0</td>\n",
       "      <td>21868593.0</td>\n",
       "      <td>Driver error</td>\n",
       "      <td>11/27/2017</td>\n",
       "      <td>Auto</td>\n",
       "      <td>No</td>\n",
       "      <td>Material only</td>\n",
       "      <td>$2980</td>\n",
       "      <td>1.0</td>\n",
       "      <td>No</td>\n",
       "    </tr>\n",
       "    <tr>\n",
       "      <th>1</th>\n",
       "      <td>75740424.0</td>\n",
       "      <td>Female</td>\n",
       "      <td>13-Jan-70</td>\n",
       "      <td>ME</td>\n",
       "      <td>265-543-1264</td>\n",
       "      <td>Silver</td>\n",
       "      <td>33985796.0</td>\n",
       "      <td>75740424.0</td>\n",
       "      <td>Crime</td>\n",
       "      <td>10/03/2018</td>\n",
       "      <td>Home</td>\n",
       "      <td>Unknown</td>\n",
       "      <td>Material only</td>\n",
       "      <td>$2980</td>\n",
       "      <td>3.0</td>\n",
       "      <td>No</td>\n",
       "    </tr>\n",
       "    <tr>\n",
       "      <th>2</th>\n",
       "      <td>30308357.0</td>\n",
       "      <td>Female</td>\n",
       "      <td>11-Mar-84</td>\n",
       "      <td>TN</td>\n",
       "      <td>798-631-4758</td>\n",
       "      <td>Silver</td>\n",
       "      <td>53522022.0</td>\n",
       "      <td>30308357.0</td>\n",
       "      <td>Other driver error</td>\n",
       "      <td>02/02/2018</td>\n",
       "      <td>Auto</td>\n",
       "      <td>No</td>\n",
       "      <td>Material only</td>\n",
       "      <td>$3369.5</td>\n",
       "      <td>1.0</td>\n",
       "      <td>Yes</td>\n",
       "    </tr>\n",
       "    <tr>\n",
       "      <th>3</th>\n",
       "      <td>30308357.0</td>\n",
       "      <td>Female</td>\n",
       "      <td>11-Mar-84</td>\n",
       "      <td>TN</td>\n",
       "      <td>798-631-4758</td>\n",
       "      <td>Silver</td>\n",
       "      <td>63017412.0</td>\n",
       "      <td>30308357.0</td>\n",
       "      <td>Driver error</td>\n",
       "      <td>04/04/2018</td>\n",
       "      <td>Auto</td>\n",
       "      <td>No</td>\n",
       "      <td>Material only</td>\n",
       "      <td>$1950</td>\n",
       "      <td>6.0</td>\n",
       "      <td>No</td>\n",
       "    </tr>\n",
       "    <tr>\n",
       "      <th>4</th>\n",
       "      <td>47830476.0</td>\n",
       "      <td>Female</td>\n",
       "      <td>01-May-86</td>\n",
       "      <td>MA</td>\n",
       "      <td>413-187-7945</td>\n",
       "      <td>Silver</td>\n",
       "      <td>13015401.0</td>\n",
       "      <td>47830476.0</td>\n",
       "      <td>Natural causes</td>\n",
       "      <td>06/17/2018</td>\n",
       "      <td>Auto</td>\n",
       "      <td>No</td>\n",
       "      <td>Material only</td>\n",
       "      <td>$1680</td>\n",
       "      <td>1.0</td>\n",
       "      <td>No</td>\n",
       "    </tr>\n",
       "    <tr>\n",
       "      <th>5</th>\n",
       "      <td>47830476.0</td>\n",
       "      <td>Female</td>\n",
       "      <td>01-May-86</td>\n",
       "      <td>MA</td>\n",
       "      <td>413-187-7945</td>\n",
       "      <td>Silver</td>\n",
       "      <td>91609100.0</td>\n",
       "      <td>47830476.0</td>\n",
       "      <td>Natural causes</td>\n",
       "      <td>04/12/2017</td>\n",
       "      <td>Auto</td>\n",
       "      <td>Unknown</td>\n",
       "      <td>Material only</td>\n",
       "      <td>$1440</td>\n",
       "      <td>1.0</td>\n",
       "      <td>No</td>\n",
       "    </tr>\n",
       "    <tr>\n",
       "      <th>6</th>\n",
       "      <td>19269962.0</td>\n",
       "      <td>Male</td>\n",
       "      <td>13-May-77</td>\n",
       "      <td>NV</td>\n",
       "      <td>956-871-8691</td>\n",
       "      <td>Gold</td>\n",
       "      <td>22890252.0</td>\n",
       "      <td>19269962.0</td>\n",
       "      <td>Crime</td>\n",
       "      <td>01/13/2018</td>\n",
       "      <td>Auto</td>\n",
       "      <td>No</td>\n",
       "      <td>Material only</td>\n",
       "      <td>$2680</td>\n",
       "      <td>1.0</td>\n",
       "      <td>No</td>\n",
       "    </tr>\n",
       "    <tr>\n",
       "      <th>7</th>\n",
       "      <td>19269962.0</td>\n",
       "      <td>Male</td>\n",
       "      <td>13-May-77</td>\n",
       "      <td>NV</td>\n",
       "      <td>956-871-8691</td>\n",
       "      <td>Gold</td>\n",
       "      <td>39219616.0</td>\n",
       "      <td>19269962.0</td>\n",
       "      <td>Other causes</td>\n",
       "      <td>09/26/2018</td>\n",
       "      <td>Auto</td>\n",
       "      <td>No</td>\n",
       "      <td>Material only</td>\n",
       "      <td>$2240</td>\n",
       "      <td>2.0</td>\n",
       "      <td>No</td>\n",
       "    </tr>\n",
       "    <tr>\n",
       "      <th>8</th>\n",
       "      <td>21831191.0</td>\n",
       "      <td>Male</td>\n",
       "      <td>17-May-77</td>\n",
       "      <td>NH</td>\n",
       "      <td>419-712-8513</td>\n",
       "      <td>Gold</td>\n",
       "      <td>24050443.0</td>\n",
       "      <td>21831191.0</td>\n",
       "      <td>Other driver error</td>\n",
       "      <td>10/04/2017</td>\n",
       "      <td>Auto</td>\n",
       "      <td>No</td>\n",
       "      <td>Injury only</td>\n",
       "      <td>$38306.5</td>\n",
       "      <td>3.0</td>\n",
       "      <td>Yes</td>\n",
       "    </tr>\n",
       "    <tr>\n",
       "      <th>9</th>\n",
       "      <td>21831191.0</td>\n",
       "      <td>Male</td>\n",
       "      <td>17-May-77</td>\n",
       "      <td>NH</td>\n",
       "      <td>419-712-8513</td>\n",
       "      <td>Gold</td>\n",
       "      <td>91475471.0</td>\n",
       "      <td>21831191.0</td>\n",
       "      <td>Driver error</td>\n",
       "      <td>02/09/2018</td>\n",
       "      <td>Auto</td>\n",
       "      <td>Unknown</td>\n",
       "      <td>Material and injury</td>\n",
       "      <td>$36810</td>\n",
       "      <td>1.0</td>\n",
       "      <td>No</td>\n",
       "    </tr>\n",
       "  </tbody>\n",
       "</table>\n",
       "</div>"
      ],
      "text/plain": [
       "      CUST_ID  gender DateOfBirth State       Contact   Segment    claim_id  \\\n",
       "0  21868593.0  Female   12-Jan-79    VT  789-916-8172  Platinum  54004764.0   \n",
       "1  75740424.0  Female   13-Jan-70    ME  265-543-1264    Silver  33985796.0   \n",
       "2  30308357.0  Female   11-Mar-84    TN  798-631-4758    Silver  53522022.0   \n",
       "3  30308357.0  Female   11-Mar-84    TN  798-631-4758    Silver  63017412.0   \n",
       "4  47830476.0  Female   01-May-86    MA  413-187-7945    Silver  13015401.0   \n",
       "5  47830476.0  Female   01-May-86    MA  413-187-7945    Silver  91609100.0   \n",
       "6  19269962.0    Male   13-May-77    NV  956-871-8691      Gold  22890252.0   \n",
       "7  19269962.0    Male   13-May-77    NV  956-871-8691      Gold  39219616.0   \n",
       "8  21831191.0    Male   17-May-77    NH  419-712-8513      Gold  24050443.0   \n",
       "9  21831191.0    Male   17-May-77    NH  419-712-8513      Gold  91475471.0   \n",
       "\n",
       "   customer_id      incident_cause  claim_date claim_area police_report  \\\n",
       "0   21868593.0        Driver error  11/27/2017       Auto            No   \n",
       "1   75740424.0               Crime  10/03/2018       Home       Unknown   \n",
       "2   30308357.0  Other driver error  02/02/2018       Auto            No   \n",
       "3   30308357.0        Driver error  04/04/2018       Auto            No   \n",
       "4   47830476.0      Natural causes  06/17/2018       Auto            No   \n",
       "5   47830476.0      Natural causes  04/12/2017       Auto       Unknown   \n",
       "6   19269962.0               Crime  01/13/2018       Auto            No   \n",
       "7   19269962.0        Other causes  09/26/2018       Auto            No   \n",
       "8   21831191.0  Other driver error  10/04/2017       Auto            No   \n",
       "9   21831191.0        Driver error  02/09/2018       Auto       Unknown   \n",
       "\n",
       "            claim_type claim_amount  total_policy_claims fraudulent  \n",
       "0        Material only        $2980                  1.0         No  \n",
       "1        Material only        $2980                  3.0         No  \n",
       "2        Material only      $3369.5                  1.0        Yes  \n",
       "3        Material only        $1950                  6.0         No  \n",
       "4        Material only        $1680                  1.0         No  \n",
       "5        Material only        $1440                  1.0         No  \n",
       "6        Material only        $2680                  1.0         No  \n",
       "7        Material only        $2240                  2.0         No  \n",
       "8          Injury only     $38306.5                  3.0        Yes  \n",
       "9  Material and injury       $36810                  1.0         No  "
      ]
     },
     "execution_count": 14,
     "metadata": {},
     "output_type": "execute_result"
    }
   ],
   "source": [
    "df.head(10)"
   ]
  },
  {
   "cell_type": "code",
   "execution_count": 15,
   "id": "8f263825",
   "metadata": {},
   "outputs": [
    {
     "name": "stdout",
     "output_type": "stream",
     "text": [
      "<class 'pandas.core.frame.DataFrame'>\n",
      "RangeIndex: 1107 entries, 0 to 1106\n",
      "Data columns (total 16 columns):\n",
      " #   Column               Non-Null Count  Dtype  \n",
      "---  ------               --------------  -----  \n",
      " 0   CUST_ID              1092 non-null   float64\n",
      " 1   gender               1092 non-null   object \n",
      " 2   DateOfBirth          1092 non-null   object \n",
      " 3   State                1092 non-null   object \n",
      " 4   Contact              1092 non-null   object \n",
      " 5   Segment              1092 non-null   object \n",
      " 6   claim_id             1100 non-null   float64\n",
      " 7   customer_id          1100 non-null   float64\n",
      " 8   incident_cause       1100 non-null   object \n",
      " 9   claim_date           1100 non-null   object \n",
      " 10  claim_area           1100 non-null   object \n",
      " 11  police_report        1100 non-null   object \n",
      " 12  claim_type           1100 non-null   object \n",
      " 13  claim_amount         1035 non-null   object \n",
      " 14  total_policy_claims  1090 non-null   float64\n",
      " 15  fraudulent           1100 non-null   object \n",
      "dtypes: float64(4), object(12)\n",
      "memory usage: 138.5+ KB\n"
     ]
    }
   ],
   "source": [
    "df.info()"
   ]
  },
  {
   "cell_type": "code",
   "execution_count": 16,
   "id": "9d6c5dd5",
   "metadata": {},
   "outputs": [],
   "source": [
    "#2. Perform a data audit for the datatypes and find out if there are any mismatch within the current datatypes of the\n",
    "#columns and their business significance."
   ]
  },
  {
   "cell_type": "code",
   "execution_count": 17,
   "id": "1aa18071",
   "metadata": {},
   "outputs": [
    {
     "name": "stderr",
     "output_type": "stream",
     "text": [
      "C:\\Users\\sandisk\\AppData\\Local\\Temp\\ipykernel_9416\\4229754682.py:2: UserWarning: Could not infer format, so each element will be parsed individually, falling back to `dateutil`. To ensure parsing is consistent and as-expected, please specify a format.\n",
      "  df['DateOfBirth'] = df['DateOfBirth'].astype('datetime64[ns]')\n"
     ]
    }
   ],
   "source": [
    "df['CUST_ID'] = df['CUST_ID'].astype(object)\n",
    "df['DateOfBirth'] = df['DateOfBirth'].astype('datetime64[ns]')\n",
    "df['claim_id'] = df['claim_id'].astype(object)\n",
    "df['customer_id'] = df['customer_id'].astype(object)\n",
    "df['claim_date'] = df['claim_date'].astype('datetime64[ns]')"
   ]
  },
  {
   "cell_type": "code",
   "execution_count": 18,
   "id": "4b182dae",
   "metadata": {},
   "outputs": [],
   "source": [
    "#3. Convert the column claim_amount to numeric. Use the appropriate modules/attributes to remove the $ sign."
   ]
  },
  {
   "cell_type": "code",
   "execution_count": 19,
   "id": "87abcd3f",
   "metadata": {},
   "outputs": [],
   "source": [
    "df['claim_amount'] = df['claim_amount'].str.replace('$',' ')\n",
    "df['claim_amount'] = df['claim_amount'].astype('float64')"
   ]
  },
  {
   "cell_type": "code",
   "execution_count": 20,
   "id": "25227883",
   "metadata": {},
   "outputs": [
    {
     "name": "stdout",
     "output_type": "stream",
     "text": [
      "<class 'pandas.core.frame.DataFrame'>\n",
      "RangeIndex: 1107 entries, 0 to 1106\n",
      "Data columns (total 16 columns):\n",
      " #   Column               Non-Null Count  Dtype         \n",
      "---  ------               --------------  -----         \n",
      " 0   CUST_ID              1092 non-null   object        \n",
      " 1   gender               1092 non-null   object        \n",
      " 2   DateOfBirth          1092 non-null   datetime64[ns]\n",
      " 3   State                1092 non-null   object        \n",
      " 4   Contact              1092 non-null   object        \n",
      " 5   Segment              1092 non-null   object        \n",
      " 6   claim_id             1100 non-null   object        \n",
      " 7   customer_id          1100 non-null   object        \n",
      " 8   incident_cause       1100 non-null   object        \n",
      " 9   claim_date           1100 non-null   datetime64[ns]\n",
      " 10  claim_area           1100 non-null   object        \n",
      " 11  police_report        1100 non-null   object        \n",
      " 12  claim_type           1100 non-null   object        \n",
      " 13  claim_amount         1035 non-null   float64       \n",
      " 14  total_policy_claims  1090 non-null   float64       \n",
      " 15  fraudulent           1100 non-null   object        \n",
      "dtypes: datetime64[ns](2), float64(2), object(12)\n",
      "memory usage: 138.5+ KB\n"
     ]
    }
   ],
   "source": [
    "df.info()"
   ]
  },
  {
   "cell_type": "code",
   "execution_count": 21,
   "id": "74115018",
   "metadata": {},
   "outputs": [
    {
     "data": {
      "text/html": [
       "<div>\n",
       "<style scoped>\n",
       "    .dataframe tbody tr th:only-of-type {\n",
       "        vertical-align: middle;\n",
       "    }\n",
       "\n",
       "    .dataframe tbody tr th {\n",
       "        vertical-align: top;\n",
       "    }\n",
       "\n",
       "    .dataframe thead th {\n",
       "        text-align: right;\n",
       "    }\n",
       "</style>\n",
       "<table border=\"1\" class=\"dataframe\">\n",
       "  <thead>\n",
       "    <tr style=\"text-align: right;\">\n",
       "      <th></th>\n",
       "      <th>CUST_ID</th>\n",
       "      <th>gender</th>\n",
       "      <th>DateOfBirth</th>\n",
       "      <th>State</th>\n",
       "      <th>Contact</th>\n",
       "      <th>Segment</th>\n",
       "      <th>claim_id</th>\n",
       "      <th>customer_id</th>\n",
       "      <th>incident_cause</th>\n",
       "      <th>claim_date</th>\n",
       "      <th>claim_area</th>\n",
       "      <th>police_report</th>\n",
       "      <th>claim_type</th>\n",
       "      <th>claim_amount</th>\n",
       "      <th>total_policy_claims</th>\n",
       "      <th>fraudulent</th>\n",
       "    </tr>\n",
       "  </thead>\n",
       "  <tbody>\n",
       "    <tr>\n",
       "      <th>245</th>\n",
       "      <td>5637733.0</td>\n",
       "      <td>Male</td>\n",
       "      <td>2064-05-27</td>\n",
       "      <td>ID</td>\n",
       "      <td>567-617-1874</td>\n",
       "      <td>Platinum</td>\n",
       "      <td>15859475.0</td>\n",
       "      <td>5637733.0</td>\n",
       "      <td>Crime</td>\n",
       "      <td>2017-10-10</td>\n",
       "      <td>Auto</td>\n",
       "      <td>Unknown</td>\n",
       "      <td>Material only</td>\n",
       "      <td>2170.0</td>\n",
       "      <td>1.0</td>\n",
       "      <td>No</td>\n",
       "    </tr>\n",
       "    <tr>\n",
       "      <th>383</th>\n",
       "      <td>25634799.0</td>\n",
       "      <td>Female</td>\n",
       "      <td>1974-11-04</td>\n",
       "      <td>KS</td>\n",
       "      <td>724-781-3692</td>\n",
       "      <td>Platinum</td>\n",
       "      <td>36457152.0</td>\n",
       "      <td>25634799.0</td>\n",
       "      <td>Driver error</td>\n",
       "      <td>2017-01-01</td>\n",
       "      <td>Auto</td>\n",
       "      <td>No</td>\n",
       "      <td>Material only</td>\n",
       "      <td>2900.0</td>\n",
       "      <td>2.0</td>\n",
       "      <td>No</td>\n",
       "    </tr>\n",
       "    <tr>\n",
       "      <th>815</th>\n",
       "      <td>46673661.0</td>\n",
       "      <td>Male</td>\n",
       "      <td>1997-10-28</td>\n",
       "      <td>MI</td>\n",
       "      <td>123-942-4267</td>\n",
       "      <td>Platinum</td>\n",
       "      <td>72837991.0</td>\n",
       "      <td>46673661.0</td>\n",
       "      <td>Other causes</td>\n",
       "      <td>2018-10-03</td>\n",
       "      <td>Home</td>\n",
       "      <td>No</td>\n",
       "      <td>Material only</td>\n",
       "      <td>1320.0</td>\n",
       "      <td>2.0</td>\n",
       "      <td>No</td>\n",
       "    </tr>\n",
       "    <tr>\n",
       "      <th>213</th>\n",
       "      <td>32850276.0</td>\n",
       "      <td>Male</td>\n",
       "      <td>2063-10-29</td>\n",
       "      <td>ME</td>\n",
       "      <td>893-673-8192</td>\n",
       "      <td>Platinum</td>\n",
       "      <td>24499353.0</td>\n",
       "      <td>32850276.0</td>\n",
       "      <td>Natural causes</td>\n",
       "      <td>2018-10-09</td>\n",
       "      <td>Home</td>\n",
       "      <td>No</td>\n",
       "      <td>Material only</td>\n",
       "      <td>1580.0</td>\n",
       "      <td>1.0</td>\n",
       "      <td>No</td>\n",
       "    </tr>\n",
       "  </tbody>\n",
       "</table>\n",
       "</div>"
      ],
      "text/plain": [
       "        CUST_ID  gender DateOfBirth State       Contact   Segment    claim_id  \\\n",
       "245   5637733.0    Male  2064-05-27    ID  567-617-1874  Platinum  15859475.0   \n",
       "383  25634799.0  Female  1974-11-04    KS  724-781-3692  Platinum  36457152.0   \n",
       "815  46673661.0    Male  1997-10-28    MI  123-942-4267  Platinum  72837991.0   \n",
       "213  32850276.0    Male  2063-10-29    ME  893-673-8192  Platinum  24499353.0   \n",
       "\n",
       "    customer_id  incident_cause claim_date claim_area police_report  \\\n",
       "245   5637733.0           Crime 2017-10-10       Auto       Unknown   \n",
       "383  25634799.0    Driver error 2017-01-01       Auto            No   \n",
       "815  46673661.0    Other causes 2018-10-03       Home            No   \n",
       "213  32850276.0  Natural causes 2018-10-09       Home            No   \n",
       "\n",
       "        claim_type  claim_amount  total_policy_claims fraudulent  \n",
       "245  Material only        2170.0                  1.0         No  \n",
       "383  Material only        2900.0                  2.0         No  \n",
       "815  Material only        1320.0                  2.0         No  \n",
       "213  Material only        1580.0                  1.0         No  "
      ]
     },
     "execution_count": 21,
     "metadata": {},
     "output_type": "execute_result"
    }
   ],
   "source": [
    "df.sample(4)"
   ]
  },
  {
   "cell_type": "code",
   "execution_count": 22,
   "id": "70c2f2a6",
   "metadata": {},
   "outputs": [],
   "source": [
    "#4. Of all the injury claims, some of them have gone unreported with the police. Create an alert flag (1,0) for all \n",
    "#such claims."
   ]
  },
  {
   "cell_type": "code",
   "execution_count": 23,
   "id": "430b4406",
   "metadata": {},
   "outputs": [
    {
     "data": {
      "text/plain": [
       "630"
      ]
     },
     "execution_count": 23,
     "metadata": {},
     "output_type": "execute_result"
    }
   ],
   "source": [
    "(df['police_report'] == 'No').sum()"
   ]
  },
  {
   "cell_type": "code",
   "execution_count": 24,
   "id": "ec186f17",
   "metadata": {},
   "outputs": [],
   "source": [
    "df['alert_flag'] = np.where(df['police_report'] == 'Yes',1,0)"
   ]
  },
  {
   "cell_type": "code",
   "execution_count": 25,
   "id": "726a09c8",
   "metadata": {},
   "outputs": [
    {
     "data": {
      "text/html": [
       "<div>\n",
       "<style scoped>\n",
       "    .dataframe tbody tr th:only-of-type {\n",
       "        vertical-align: middle;\n",
       "    }\n",
       "\n",
       "    .dataframe tbody tr th {\n",
       "        vertical-align: top;\n",
       "    }\n",
       "\n",
       "    .dataframe thead th {\n",
       "        text-align: right;\n",
       "    }\n",
       "</style>\n",
       "<table border=\"1\" class=\"dataframe\">\n",
       "  <thead>\n",
       "    <tr style=\"text-align: right;\">\n",
       "      <th></th>\n",
       "      <th>alert_flag</th>\n",
       "      <th>police_report</th>\n",
       "    </tr>\n",
       "  </thead>\n",
       "  <tbody>\n",
       "    <tr>\n",
       "      <th>577</th>\n",
       "      <td>0</td>\n",
       "      <td>No</td>\n",
       "    </tr>\n",
       "    <tr>\n",
       "      <th>270</th>\n",
       "      <td>1</td>\n",
       "      <td>Yes</td>\n",
       "    </tr>\n",
       "    <tr>\n",
       "      <th>399</th>\n",
       "      <td>0</td>\n",
       "      <td>Unknown</td>\n",
       "    </tr>\n",
       "    <tr>\n",
       "      <th>508</th>\n",
       "      <td>0</td>\n",
       "      <td>No</td>\n",
       "    </tr>\n",
       "    <tr>\n",
       "      <th>955</th>\n",
       "      <td>0</td>\n",
       "      <td>Unknown</td>\n",
       "    </tr>\n",
       "    <tr>\n",
       "      <th>1096</th>\n",
       "      <td>0</td>\n",
       "      <td>Unknown</td>\n",
       "    </tr>\n",
       "    <tr>\n",
       "      <th>973</th>\n",
       "      <td>0</td>\n",
       "      <td>No</td>\n",
       "    </tr>\n",
       "    <tr>\n",
       "      <th>656</th>\n",
       "      <td>0</td>\n",
       "      <td>No</td>\n",
       "    </tr>\n",
       "    <tr>\n",
       "      <th>53</th>\n",
       "      <td>0</td>\n",
       "      <td>Unknown</td>\n",
       "    </tr>\n",
       "    <tr>\n",
       "      <th>675</th>\n",
       "      <td>0</td>\n",
       "      <td>No</td>\n",
       "    </tr>\n",
       "  </tbody>\n",
       "</table>\n",
       "</div>"
      ],
      "text/plain": [
       "      alert_flag police_report\n",
       "577            0            No\n",
       "270            1           Yes\n",
       "399            0       Unknown\n",
       "508            0            No\n",
       "955            0       Unknown\n",
       "1096           0       Unknown\n",
       "973            0            No\n",
       "656            0            No\n",
       "53             0       Unknown\n",
       "675            0            No"
      ]
     },
     "execution_count": 25,
     "metadata": {},
     "output_type": "execute_result"
    }
   ],
   "source": [
    "df[['alert_flag','police_report']].sample(10)"
   ]
  },
  {
   "cell_type": "code",
   "execution_count": 26,
   "id": "423a78c1",
   "metadata": {},
   "outputs": [],
   "source": [
    "#5.One customer can claim for insurance more than once and in each claim,multiple categories of claims can be involved. \n",
    "#However, customer ID should remain unique. \n",
    "#Retain the most recent observation and delete any duplicated records inthe data based on the customer ID column."
   ]
  },
  {
   "cell_type": "code",
   "execution_count": 27,
   "id": "8be58c36",
   "metadata": {},
   "outputs": [
    {
     "data": {
      "text/plain": [
       "Index(['CUST_ID', 'gender', 'DateOfBirth', 'State', 'Contact', 'Segment',\n",
       "       'claim_id', 'customer_id', 'incident_cause', 'claim_date', 'claim_area',\n",
       "       'police_report', 'claim_type', 'claim_amount', 'total_policy_claims',\n",
       "       'fraudulent', 'alert_flag'],\n",
       "      dtype='object')"
      ]
     },
     "execution_count": 27,
     "metadata": {},
     "output_type": "execute_result"
    }
   ],
   "source": [
    "df.columns"
   ]
  },
  {
   "cell_type": "code",
   "execution_count": 28,
   "id": "c9ee41ae",
   "metadata": {},
   "outputs": [
    {
     "data": {
      "text/html": [
       "<div>\n",
       "<style scoped>\n",
       "    .dataframe tbody tr th:only-of-type {\n",
       "        vertical-align: middle;\n",
       "    }\n",
       "\n",
       "    .dataframe tbody tr th {\n",
       "        vertical-align: top;\n",
       "    }\n",
       "\n",
       "    .dataframe thead th {\n",
       "        text-align: right;\n",
       "    }\n",
       "</style>\n",
       "<table border=\"1\" class=\"dataframe\">\n",
       "  <thead>\n",
       "    <tr style=\"text-align: right;\">\n",
       "      <th></th>\n",
       "      <th>CUST_ID</th>\n",
       "      <th>gender</th>\n",
       "      <th>DateOfBirth</th>\n",
       "      <th>State</th>\n",
       "      <th>Contact</th>\n",
       "      <th>Segment</th>\n",
       "      <th>claim_id</th>\n",
       "      <th>customer_id</th>\n",
       "      <th>incident_cause</th>\n",
       "      <th>claim_date</th>\n",
       "      <th>claim_area</th>\n",
       "      <th>police_report</th>\n",
       "      <th>claim_type</th>\n",
       "      <th>claim_amount</th>\n",
       "      <th>total_policy_claims</th>\n",
       "      <th>fraudulent</th>\n",
       "      <th>alert_flag</th>\n",
       "    </tr>\n",
       "  </thead>\n",
       "  <tbody>\n",
       "    <tr>\n",
       "      <th>1062</th>\n",
       "      <td>58451506.0</td>\n",
       "      <td>Male</td>\n",
       "      <td>2068-04-22</td>\n",
       "      <td>FL</td>\n",
       "      <td>673-574-7823</td>\n",
       "      <td>Gold</td>\n",
       "      <td>43042986.0</td>\n",
       "      <td>58451506.0</td>\n",
       "      <td>Natural causes</td>\n",
       "      <td>2018-10-30</td>\n",
       "      <td>Auto</td>\n",
       "      <td>No</td>\n",
       "      <td>Material only</td>\n",
       "      <td>2420.0</td>\n",
       "      <td>1.0</td>\n",
       "      <td>No</td>\n",
       "      <td>0</td>\n",
       "    </tr>\n",
       "    <tr>\n",
       "      <th>286</th>\n",
       "      <td>93915431.0</td>\n",
       "      <td>Male</td>\n",
       "      <td>2067-09-08</td>\n",
       "      <td>ME</td>\n",
       "      <td>134-785-1687</td>\n",
       "      <td>Gold</td>\n",
       "      <td>99775483.0</td>\n",
       "      <td>93915431.0</td>\n",
       "      <td>Other causes</td>\n",
       "      <td>2018-10-30</td>\n",
       "      <td>Auto</td>\n",
       "      <td>No</td>\n",
       "      <td>Material and injury</td>\n",
       "      <td>42124.5</td>\n",
       "      <td>1.0</td>\n",
       "      <td>Yes</td>\n",
       "      <td>0</td>\n",
       "    </tr>\n",
       "    <tr>\n",
       "      <th>704</th>\n",
       "      <td>86491727.0</td>\n",
       "      <td>Female</td>\n",
       "      <td>1997-01-29</td>\n",
       "      <td>IL</td>\n",
       "      <td>294-187-3286</td>\n",
       "      <td>Gold</td>\n",
       "      <td>32178193.0</td>\n",
       "      <td>86491727.0</td>\n",
       "      <td>Driver error</td>\n",
       "      <td>2018-10-30</td>\n",
       "      <td>Home</td>\n",
       "      <td>Unknown</td>\n",
       "      <td>Material only</td>\n",
       "      <td>1860.0</td>\n",
       "      <td>1.0</td>\n",
       "      <td>No</td>\n",
       "      <td>0</td>\n",
       "    </tr>\n",
       "    <tr>\n",
       "      <th>354</th>\n",
       "      <td>38011078.0</td>\n",
       "      <td>Female</td>\n",
       "      <td>1976-05-20</td>\n",
       "      <td>NE</td>\n",
       "      <td>271-123-1475</td>\n",
       "      <td>Gold</td>\n",
       "      <td>98795403.0</td>\n",
       "      <td>38011078.0</td>\n",
       "      <td>Crime</td>\n",
       "      <td>2018-10-30</td>\n",
       "      <td>Auto</td>\n",
       "      <td>Unknown</td>\n",
       "      <td>Material only</td>\n",
       "      <td>1940.0</td>\n",
       "      <td>1.0</td>\n",
       "      <td>No</td>\n",
       "      <td>0</td>\n",
       "    </tr>\n",
       "    <tr>\n",
       "      <th>1084</th>\n",
       "      <td>65208809.0</td>\n",
       "      <td>Male</td>\n",
       "      <td>2064-04-22</td>\n",
       "      <td>VA</td>\n",
       "      <td>286-128-6132</td>\n",
       "      <td>Platinum</td>\n",
       "      <td>91386759.0</td>\n",
       "      <td>65208809.0</td>\n",
       "      <td>Natural causes</td>\n",
       "      <td>2018-10-30</td>\n",
       "      <td>Auto</td>\n",
       "      <td>No</td>\n",
       "      <td>Material only</td>\n",
       "      <td>2290.0</td>\n",
       "      <td>1.0</td>\n",
       "      <td>No</td>\n",
       "      <td>0</td>\n",
       "    </tr>\n",
       "    <tr>\n",
       "      <th>...</th>\n",
       "      <td>...</td>\n",
       "      <td>...</td>\n",
       "      <td>...</td>\n",
       "      <td>...</td>\n",
       "      <td>...</td>\n",
       "      <td>...</td>\n",
       "      <td>...</td>\n",
       "      <td>...</td>\n",
       "      <td>...</td>\n",
       "      <td>...</td>\n",
       "      <td>...</td>\n",
       "      <td>...</td>\n",
       "      <td>...</td>\n",
       "      <td>...</td>\n",
       "      <td>...</td>\n",
       "      <td>...</td>\n",
       "      <td>...</td>\n",
       "    </tr>\n",
       "    <tr>\n",
       "      <th>383</th>\n",
       "      <td>25634799.0</td>\n",
       "      <td>Female</td>\n",
       "      <td>1974-11-04</td>\n",
       "      <td>KS</td>\n",
       "      <td>724-781-3692</td>\n",
       "      <td>Platinum</td>\n",
       "      <td>36457152.0</td>\n",
       "      <td>25634799.0</td>\n",
       "      <td>Driver error</td>\n",
       "      <td>2017-01-01</td>\n",
       "      <td>Auto</td>\n",
       "      <td>No</td>\n",
       "      <td>Material only</td>\n",
       "      <td>2900.0</td>\n",
       "      <td>2.0</td>\n",
       "      <td>No</td>\n",
       "      <td>0</td>\n",
       "    </tr>\n",
       "    <tr>\n",
       "      <th>581</th>\n",
       "      <td>97514724.0</td>\n",
       "      <td>Male</td>\n",
       "      <td>2069-06-08</td>\n",
       "      <td>FL</td>\n",
       "      <td>641-684-7986</td>\n",
       "      <td>Platinum</td>\n",
       "      <td>97666948.0</td>\n",
       "      <td>97514724.0</td>\n",
       "      <td>Driver error</td>\n",
       "      <td>2017-01-01</td>\n",
       "      <td>Home</td>\n",
       "      <td>No</td>\n",
       "      <td>Injury only</td>\n",
       "      <td>19120.0</td>\n",
       "      <td>1.0</td>\n",
       "      <td>No</td>\n",
       "      <td>0</td>\n",
       "    </tr>\n",
       "    <tr>\n",
       "      <th>231</th>\n",
       "      <td>77219712.0</td>\n",
       "      <td>Female</td>\n",
       "      <td>1999-08-05</td>\n",
       "      <td>NH</td>\n",
       "      <td>649-592-8793</td>\n",
       "      <td>Platinum</td>\n",
       "      <td>61374372.0</td>\n",
       "      <td>77219712.0</td>\n",
       "      <td>Other causes</td>\n",
       "      <td>2017-01-01</td>\n",
       "      <td>Auto</td>\n",
       "      <td>No</td>\n",
       "      <td>Material and injury</td>\n",
       "      <td>20200.0</td>\n",
       "      <td>1.0</td>\n",
       "      <td>No</td>\n",
       "      <td>0</td>\n",
       "    </tr>\n",
       "    <tr>\n",
       "      <th>912</th>\n",
       "      <td>42664554.0</td>\n",
       "      <td>Female</td>\n",
       "      <td>1993-08-13</td>\n",
       "      <td>TN</td>\n",
       "      <td>396-973-2531</td>\n",
       "      <td>Gold</td>\n",
       "      <td>42280334.0</td>\n",
       "      <td>42664554.0</td>\n",
       "      <td>Other causes</td>\n",
       "      <td>2017-01-01</td>\n",
       "      <td>Auto</td>\n",
       "      <td>No</td>\n",
       "      <td>Injury only</td>\n",
       "      <td>27670.0</td>\n",
       "      <td>1.0</td>\n",
       "      <td>No</td>\n",
       "      <td>0</td>\n",
       "    </tr>\n",
       "    <tr>\n",
       "      <th>607</th>\n",
       "      <td>38183238.0</td>\n",
       "      <td>Female</td>\n",
       "      <td>1985-03-15</td>\n",
       "      <td>FL</td>\n",
       "      <td>596-319-8236</td>\n",
       "      <td>Gold</td>\n",
       "      <td>NaN</td>\n",
       "      <td>NaN</td>\n",
       "      <td>NaN</td>\n",
       "      <td>NaT</td>\n",
       "      <td>NaN</td>\n",
       "      <td>NaN</td>\n",
       "      <td>NaN</td>\n",
       "      <td>NaN</td>\n",
       "      <td>NaN</td>\n",
       "      <td>NaN</td>\n",
       "      <td>0</td>\n",
       "    </tr>\n",
       "  </tbody>\n",
       "</table>\n",
       "<p>1094 rows × 17 columns</p>\n",
       "</div>"
      ],
      "text/plain": [
       "         CUST_ID  gender DateOfBirth State       Contact   Segment  \\\n",
       "1062  58451506.0    Male  2068-04-22    FL  673-574-7823      Gold   \n",
       "286   93915431.0    Male  2067-09-08    ME  134-785-1687      Gold   \n",
       "704   86491727.0  Female  1997-01-29    IL  294-187-3286      Gold   \n",
       "354   38011078.0  Female  1976-05-20    NE  271-123-1475      Gold   \n",
       "1084  65208809.0    Male  2064-04-22    VA  286-128-6132  Platinum   \n",
       "...          ...     ...         ...   ...           ...       ...   \n",
       "383   25634799.0  Female  1974-11-04    KS  724-781-3692  Platinum   \n",
       "581   97514724.0    Male  2069-06-08    FL  641-684-7986  Platinum   \n",
       "231   77219712.0  Female  1999-08-05    NH  649-592-8793  Platinum   \n",
       "912   42664554.0  Female  1993-08-13    TN  396-973-2531      Gold   \n",
       "607   38183238.0  Female  1985-03-15    FL  596-319-8236      Gold   \n",
       "\n",
       "        claim_id customer_id  incident_cause claim_date claim_area  \\\n",
       "1062  43042986.0  58451506.0  Natural causes 2018-10-30       Auto   \n",
       "286   99775483.0  93915431.0    Other causes 2018-10-30       Auto   \n",
       "704   32178193.0  86491727.0    Driver error 2018-10-30       Home   \n",
       "354   98795403.0  38011078.0           Crime 2018-10-30       Auto   \n",
       "1084  91386759.0  65208809.0  Natural causes 2018-10-30       Auto   \n",
       "...          ...         ...             ...        ...        ...   \n",
       "383   36457152.0  25634799.0    Driver error 2017-01-01       Auto   \n",
       "581   97666948.0  97514724.0    Driver error 2017-01-01       Home   \n",
       "231   61374372.0  77219712.0    Other causes 2017-01-01       Auto   \n",
       "912   42280334.0  42664554.0    Other causes 2017-01-01       Auto   \n",
       "607          NaN         NaN             NaN        NaT        NaN   \n",
       "\n",
       "     police_report           claim_type  claim_amount  total_policy_claims  \\\n",
       "1062            No        Material only        2420.0                  1.0   \n",
       "286             No  Material and injury       42124.5                  1.0   \n",
       "704        Unknown        Material only        1860.0                  1.0   \n",
       "354        Unknown        Material only        1940.0                  1.0   \n",
       "1084            No        Material only        2290.0                  1.0   \n",
       "...            ...                  ...           ...                  ...   \n",
       "383             No        Material only        2900.0                  2.0   \n",
       "581             No          Injury only       19120.0                  1.0   \n",
       "231             No  Material and injury       20200.0                  1.0   \n",
       "912             No          Injury only       27670.0                  1.0   \n",
       "607            NaN                  NaN           NaN                  NaN   \n",
       "\n",
       "     fraudulent  alert_flag  \n",
       "1062         No           0  \n",
       "286         Yes           0  \n",
       "704          No           0  \n",
       "354          No           0  \n",
       "1084         No           0  \n",
       "...         ...         ...  \n",
       "383          No           0  \n",
       "581          No           0  \n",
       "231          No           0  \n",
       "912          No           0  \n",
       "607         NaN           0  \n",
       "\n",
       "[1094 rows x 17 columns]"
      ]
     },
     "execution_count": 28,
     "metadata": {},
     "output_type": "execute_result"
    }
   ],
   "source": [
    "df1 = df.sort_values(by = 'claim_date', ascending = False)\n",
    "df1.drop_duplicates(subset = 'customer_id', keep = 'first',inplace = True)\n",
    "df1"
   ]
  },
  {
   "cell_type": "code",
   "execution_count": 29,
   "id": "6e286166",
   "metadata": {},
   "outputs": [],
   "source": [
    "#6. Check for missing values and impute the missing values with an appropriate value. (mean for continuous and mode\n",
    "#for categorical)"
   ]
  },
  {
   "cell_type": "code",
   "execution_count": 30,
   "id": "5bbd3614",
   "metadata": {},
   "outputs": [
    {
     "data": {
      "text/plain": [
       "CUST_ID                15\n",
       "gender                 15\n",
       "DateOfBirth            15\n",
       "State                  15\n",
       "Contact                15\n",
       "Segment                15\n",
       "claim_id                7\n",
       "customer_id             7\n",
       "incident_cause          7\n",
       "claim_date              7\n",
       "claim_area              7\n",
       "police_report           7\n",
       "claim_type              7\n",
       "claim_amount           72\n",
       "total_policy_claims    17\n",
       "fraudulent              7\n",
       "alert_flag              0\n",
       "dtype: int64"
      ]
     },
     "execution_count": 30,
     "metadata": {},
     "output_type": "execute_result"
    }
   ],
   "source": [
    "df.isnull().sum()"
   ]
  },
  {
   "cell_type": "code",
   "execution_count": 31,
   "id": "0295fc45",
   "metadata": {},
   "outputs": [],
   "source": [
    "for column in df.columns:\n",
    "    if df[column].dtype == 'object':\n",
    "        mode_value = df[column].mode()[0]\n",
    "        df[column].fillna(mode_value, inplace=True)\n",
    "    else:\n",
    "        mean_value = df[column].mean()\n",
    "        df[column].fillna(mean_value, inplace=True)"
   ]
  },
  {
   "cell_type": "code",
   "execution_count": 32,
   "id": "3f77b3b0",
   "metadata": {},
   "outputs": [
    {
     "data": {
      "text/plain": [
       "CUST_ID                0\n",
       "gender                 0\n",
       "DateOfBirth            0\n",
       "State                  0\n",
       "Contact                0\n",
       "Segment                0\n",
       "claim_id               0\n",
       "customer_id            0\n",
       "incident_cause         0\n",
       "claim_date             0\n",
       "claim_area             0\n",
       "police_report          0\n",
       "claim_type             0\n",
       "claim_amount           0\n",
       "total_policy_claims    0\n",
       "fraudulent             0\n",
       "alert_flag             0\n",
       "dtype: int64"
      ]
     },
     "execution_count": 32,
     "metadata": {},
     "output_type": "execute_result"
    }
   ],
   "source": [
    "df.isnull().sum()"
   ]
  },
  {
   "cell_type": "code",
   "execution_count": 33,
   "id": "c0dc8e2f",
   "metadata": {},
   "outputs": [],
   "source": [
    "#7. Calculate the age of customers in years. Based on the age, categorize thecustomers according to the below criteria\n",
    "#Children < 18\n",
    "#Youth 18-30\n",
    "#Adult 30-60\n",
    "#Senior > 60"
   ]
  },
  {
   "cell_type": "code",
   "execution_count": 34,
   "id": "1eacdcda",
   "metadata": {},
   "outputs": [],
   "source": [
    "current_year = dt.datetime.now().year\n",
    "df['Age'] = current_year - df['DateOfBirth'].dt.year"
   ]
  },
  {
   "cell_type": "code",
   "execution_count": 35,
   "id": "e0c536bd",
   "metadata": {},
   "outputs": [],
   "source": [
    "df['Age_category'] = None        "
   ]
  },
  {
   "cell_type": "code",
   "execution_count": 36,
   "id": "f19ff8b5",
   "metadata": {},
   "outputs": [],
   "source": [
    "df['Age'] = df['Age'].abs()"
   ]
  },
  {
   "cell_type": "code",
   "execution_count": 37,
   "id": "88355f6f",
   "metadata": {},
   "outputs": [],
   "source": [
    "bins = [0, 18, 30, 60, float('inf')]\n",
    "labels = ['Children', 'Youth', 'Adult', 'Senior']\n",
    "\n",
    "# Create the 'Age_category' column using cut()\n",
    "df['Age_category'] = pd.cut(df['Age'], bins=bins, labels=labels, right=False, include_lowest=True)\n"
   ]
  },
  {
   "cell_type": "code",
   "execution_count": 38,
   "id": "c9fe8391",
   "metadata": {},
   "outputs": [
    {
     "data": {
      "text/html": [
       "<div>\n",
       "<style scoped>\n",
       "    .dataframe tbody tr th:only-of-type {\n",
       "        vertical-align: middle;\n",
       "    }\n",
       "\n",
       "    .dataframe tbody tr th {\n",
       "        vertical-align: top;\n",
       "    }\n",
       "\n",
       "    .dataframe thead th {\n",
       "        text-align: right;\n",
       "    }\n",
       "</style>\n",
       "<table border=\"1\" class=\"dataframe\">\n",
       "  <thead>\n",
       "    <tr style=\"text-align: right;\">\n",
       "      <th></th>\n",
       "      <th>Age</th>\n",
       "      <th>Age_category</th>\n",
       "    </tr>\n",
       "  </thead>\n",
       "  <tbody>\n",
       "    <tr>\n",
       "      <th>1034</th>\n",
       "      <td>38</td>\n",
       "      <td>Adult</td>\n",
       "    </tr>\n",
       "    <tr>\n",
       "      <th>156</th>\n",
       "      <td>37</td>\n",
       "      <td>Adult</td>\n",
       "    </tr>\n",
       "    <tr>\n",
       "      <th>1006</th>\n",
       "      <td>42</td>\n",
       "      <td>Adult</td>\n",
       "    </tr>\n",
       "    <tr>\n",
       "      <th>1071</th>\n",
       "      <td>37</td>\n",
       "      <td>Adult</td>\n",
       "    </tr>\n",
       "    <tr>\n",
       "      <th>451</th>\n",
       "      <td>30</td>\n",
       "      <td>Adult</td>\n",
       "    </tr>\n",
       "    <tr>\n",
       "      <th>64</th>\n",
       "      <td>40</td>\n",
       "      <td>Adult</td>\n",
       "    </tr>\n",
       "    <tr>\n",
       "      <th>1066</th>\n",
       "      <td>46</td>\n",
       "      <td>Adult</td>\n",
       "    </tr>\n",
       "    <tr>\n",
       "      <th>1059</th>\n",
       "      <td>33</td>\n",
       "      <td>Adult</td>\n",
       "    </tr>\n",
       "    <tr>\n",
       "      <th>1072</th>\n",
       "      <td>50</td>\n",
       "      <td>Adult</td>\n",
       "    </tr>\n",
       "    <tr>\n",
       "      <th>344</th>\n",
       "      <td>29</td>\n",
       "      <td>Youth</td>\n",
       "    </tr>\n",
       "  </tbody>\n",
       "</table>\n",
       "</div>"
      ],
      "text/plain": [
       "      Age Age_category\n",
       "1034   38        Adult\n",
       "156    37        Adult\n",
       "1006   42        Adult\n",
       "1071   37        Adult\n",
       "451    30        Adult\n",
       "64     40        Adult\n",
       "1066   46        Adult\n",
       "1059   33        Adult\n",
       "1072   50        Adult\n",
       "344    29        Youth"
      ]
     },
     "execution_count": 38,
     "metadata": {},
     "output_type": "execute_result"
    }
   ],
   "source": [
    "df[['Age',\"Age_category\"]].sample(10)"
   ]
  },
  {
   "cell_type": "code",
   "execution_count": 39,
   "id": "736dbb0c",
   "metadata": {},
   "outputs": [],
   "source": [
    "#8.What is the average amount claimed by the customers from various segments?"
   ]
  },
  {
   "cell_type": "code",
   "execution_count": 40,
   "id": "0c3e10bd",
   "metadata": {},
   "outputs": [
    {
     "data": {
      "text/html": [
       "<div>\n",
       "<style scoped>\n",
       "    .dataframe tbody tr th:only-of-type {\n",
       "        vertical-align: middle;\n",
       "    }\n",
       "\n",
       "    .dataframe tbody tr th {\n",
       "        vertical-align: top;\n",
       "    }\n",
       "\n",
       "    .dataframe thead th {\n",
       "        text-align: right;\n",
       "    }\n",
       "</style>\n",
       "<table border=\"1\" class=\"dataframe\">\n",
       "  <thead>\n",
       "    <tr style=\"text-align: right;\">\n",
       "      <th></th>\n",
       "      <th>Segment</th>\n",
       "      <th>average_amount_claimed</th>\n",
       "    </tr>\n",
       "  </thead>\n",
       "  <tbody>\n",
       "    <tr>\n",
       "      <th>0</th>\n",
       "      <td>Gold</td>\n",
       "      <td>12745.668485</td>\n",
       "    </tr>\n",
       "    <tr>\n",
       "      <th>1</th>\n",
       "      <td>Platinum</td>\n",
       "      <td>12341.725348</td>\n",
       "    </tr>\n",
       "    <tr>\n",
       "      <th>2</th>\n",
       "      <td>Silver</td>\n",
       "      <td>12208.394241</td>\n",
       "    </tr>\n",
       "  </tbody>\n",
       "</table>\n",
       "</div>"
      ],
      "text/plain": [
       "    Segment  average_amount_claimed\n",
       "0      Gold            12745.668485\n",
       "1  Platinum            12341.725348\n",
       "2    Silver            12208.394241"
      ]
     },
     "execution_count": 40,
     "metadata": {},
     "output_type": "execute_result"
    }
   ],
   "source": [
    "df.groupby('Segment').agg(average_amount_claimed=('claim_amount', np.mean)).reset_index()"
   ]
  },
  {
   "cell_type": "code",
   "execution_count": 41,
   "id": "0e58d8e0",
   "metadata": {},
   "outputs": [],
   "source": [
    "#9. What is the total claim amount based on incident cause for all the claims that have been done at least \n",
    "#20 days prior to 1st of October, 2018."
   ]
  },
  {
   "cell_type": "code",
   "execution_count": 42,
   "id": "ce992604",
   "metadata": {},
   "outputs": [
    {
     "data": {
      "text/html": [
       "<div>\n",
       "<style scoped>\n",
       "    .dataframe tbody tr th:only-of-type {\n",
       "        vertical-align: middle;\n",
       "    }\n",
       "\n",
       "    .dataframe tbody tr th {\n",
       "        vertical-align: top;\n",
       "    }\n",
       "\n",
       "    .dataframe thead th {\n",
       "        text-align: right;\n",
       "    }\n",
       "</style>\n",
       "<table border=\"1\" class=\"dataframe\">\n",
       "  <thead>\n",
       "    <tr style=\"text-align: right;\">\n",
       "      <th></th>\n",
       "      <th>claim_amount</th>\n",
       "    </tr>\n",
       "    <tr>\n",
       "      <th>incident_cause</th>\n",
       "      <th></th>\n",
       "    </tr>\n",
       "  </thead>\n",
       "  <tbody>\n",
       "    <tr>\n",
       "      <th>Crime</th>\n",
       "      <td>7.294726e+05</td>\n",
       "    </tr>\n",
       "    <tr>\n",
       "      <th>Driver error</th>\n",
       "      <td>3.348656e+06</td>\n",
       "    </tr>\n",
       "    <tr>\n",
       "      <th>Natural causes</th>\n",
       "      <td>1.316441e+06</td>\n",
       "    </tr>\n",
       "    <tr>\n",
       "      <th>Other causes</th>\n",
       "      <td>3.866964e+06</td>\n",
       "    </tr>\n",
       "    <tr>\n",
       "      <th>Other driver error</th>\n",
       "      <td>3.384045e+06</td>\n",
       "    </tr>\n",
       "  </tbody>\n",
       "</table>\n",
       "</div>"
      ],
      "text/plain": [
       "                    claim_amount\n",
       "incident_cause                  \n",
       "Crime               7.294726e+05\n",
       "Driver error        3.348656e+06\n",
       "Natural causes      1.316441e+06\n",
       "Other causes        3.866964e+06\n",
       "Other driver error  3.384045e+06"
      ]
     },
     "execution_count": 42,
     "metadata": {},
     "output_type": "execute_result"
    }
   ],
   "source": [
    "filtered_df = df[df['claim_date'] <= '2018-09-11']\n",
    "filtered_df.groupby('incident_cause').agg({'claim_amount':np.sum})"
   ]
  },
  {
   "cell_type": "code",
   "execution_count": 43,
   "id": "89eaf56d",
   "metadata": {},
   "outputs": [],
   "source": [
    "#10.How many adults from TX, DE and AK claimed insurance for driver related issues and causes"
   ]
  },
  {
   "cell_type": "code",
   "execution_count": 44,
   "id": "b6e1b8af",
   "metadata": {},
   "outputs": [],
   "source": [
    "adult = df[df['Age_category']=='Adult']"
   ]
  },
  {
   "cell_type": "code",
   "execution_count": 45,
   "id": "c595cc36",
   "metadata": {},
   "outputs": [],
   "source": [
    "state = adult[adult['State'].isin(['TX','DE','AK'])]"
   ]
  },
  {
   "cell_type": "code",
   "execution_count": 46,
   "id": "ec14fabc",
   "metadata": {},
   "outputs": [],
   "source": [
    "ff = state[state['incident_cause'] == 'Driver error']"
   ]
  },
  {
   "cell_type": "code",
   "execution_count": 47,
   "id": "57f48281",
   "metadata": {},
   "outputs": [
    {
     "name": "stdout",
     "output_type": "stream",
     "text": [
      "No. of adults from TX, DE and AK claimed insurance for driver related issues and causes =  19\n"
     ]
    }
   ],
   "source": [
    "print('No. of adults from TX, DE and AK claimed insurance for driver related issues and causes = ',ff['Age_category'].count())"
   ]
  },
  {
   "cell_type": "code",
   "execution_count": 48,
   "id": "ce0eb78b",
   "metadata": {},
   "outputs": [],
   "source": [
    "#11. Draw a pie chart between the aggregated value of claim amount based on gender and segment. Represent the claim amount\n",
    "#as a percentage on the pie chart."
   ]
  },
  {
   "cell_type": "code",
   "execution_count": 49,
   "id": "d1cc3b13",
   "metadata": {},
   "outputs": [],
   "source": [
    "gen_seg = df.groupby(['gender','Segment']).agg({'claim_amount':np.sum})"
   ]
  },
  {
   "cell_type": "code",
   "execution_count": 50,
   "id": "b088a513",
   "metadata": {},
   "outputs": [
    {
     "data": {
      "image/png": "[encoded data removed]",
      "text/plain": [
       "<Figure size 500x500 with 1 Axes>"
      ]
     },
     "metadata": {},
     "output_type": "display_data"
    }
   ],
   "source": [
    "gen_seg.plot(kind = 'pie', subplots = True, figsize = (5,5), autopct = '%1.1f%%',fontsize=10, labeldistance=None)\n",
    "plt.title('Claim amount on Gender and Segment')\n",
    "plt.legend(loc = 'upper right',prop={'size': 6})\n",
    "plt.tight_layout()\n",
    "plt.show()"
   ]
  },
  {
   "cell_type": "code",
   "execution_count": 51,
   "id": "4ea3a415",
   "metadata": {},
   "outputs": [],
   "source": [
    "#12. Among males and females, which gender had claimed the most for any type of driver related issues? \n",
    "#E.g. This metric can be compared using a bar chart"
   ]
  },
  {
   "cell_type": "code",
   "execution_count": 52,
   "id": "41423470",
   "metadata": {},
   "outputs": [],
   "source": [
    "driver_issues = df[df['incident_cause'] == 'Driver error']"
   ]
  },
  {
   "cell_type": "code",
   "execution_count": 53,
   "id": "012f9a18",
   "metadata": {},
   "outputs": [
    {
     "data": {
      "image/png": "[encoded data removed]",
      "text/plain": [
       "<Figure size 640x480 with 1 Axes>"
      ]
     },
     "metadata": {},
     "output_type": "display_data"
    }
   ],
   "source": [
    "gender_claim_amount = driver_issues.groupby('gender')['claim_amount'].sum()\n",
    "\n",
    "gender_claim_amount.plot(kind='bar', color=['green', 'red'], width=0.3)\n",
    "\n",
    "plt.title('Driver-related Issues: Total Claim Amount by Gender')\n",
    "plt.xlabel('Gender')\n",
    "plt.ylabel('Total Claim Amount')\n",
    "plt.xticks(rotation = 0)\n",
    "plt.show()"
   ]
  },
  {
   "cell_type": "code",
   "execution_count": 54,
   "id": "c515e7bb",
   "metadata": {},
   "outputs": [],
   "source": [
    "#13. Which age group had the maximum fraudulent policy claims? Visualize it on a bar chart."
   ]
  },
  {
   "cell_type": "code",
   "execution_count": 55,
   "id": "2c3e8a89",
   "metadata": {},
   "outputs": [],
   "source": [
    "fraudulent_claims = df[df['fraudulent']=='Yes']"
   ]
  },
  {
   "cell_type": "code",
   "execution_count": 56,
   "id": "21e652d4",
   "metadata": {},
   "outputs": [
    {
     "data": {
      "image/png": "[encoded data removed]",
      "text/plain": [
       "<Figure size 640x480 with 1 Axes>"
      ]
     },
     "metadata": {},
     "output_type": "display_data"
    }
   ],
   "source": [
    "fraudulent_claims_by_age_group = fraudulent_claims.groupby('Age_category')['fraudulent'].count()\n",
    "fraudulent_claims_by_age_group.plot(kind='bar', color='purple')\n",
    "\n",
    "plt.title('Fraudulent Policy Claims by Age Group')\n",
    "plt.xlabel('Age Group')\n",
    "plt.ylabel('Number of Fraudulent Claims')\n",
    "plt.show()"
   ]
  },
  {
   "cell_type": "code",
   "execution_count": 57,
   "id": "330aeef0",
   "metadata": {},
   "outputs": [],
   "source": [
    "#14. Visualize the monthly trend of the total amount that has been claimed by the customers. Ensure that on\n",
    "#the “month” axis, the month is in a chronological order not alphabetical order. "
   ]
  },
  {
   "cell_type": "code",
   "execution_count": 58,
   "id": "24ccc829",
   "metadata": {},
   "outputs": [],
   "source": [
    "df['claim_month'] = df['claim_date'].dt.strftime('%B')"
   ]
  },
  {
   "cell_type": "code",
   "execution_count": 59,
   "id": "fb03e261",
   "metadata": {},
   "outputs": [],
   "source": [
    "month_order = ['April', 'May', 'June', \n",
    "               'July', 'August', 'September', 'October', 'November', 'December','January', 'February', 'March']\n",
    "df['claim_month'] = pd.Categorical(df['claim_month'], categories=month_order, ordered=True)\n"
   ]
  },
  {
   "cell_type": "code",
   "execution_count": 60,
   "id": "4418063a",
   "metadata": {},
   "outputs": [],
   "source": [
    "monthly_trend = df.groupby('claim_month').agg({'claim_amount':np.sum})"
   ]
  },
  {
   "cell_type": "code",
   "execution_count": 61,
   "id": "98009c57",
   "metadata": {},
   "outputs": [
    {
     "data": {
      "image/png": "[encoded data removed]",
      "text/plain": [
       "<Figure size 640x480 with 1 Axes>"
      ]
     },
     "metadata": {},
     "output_type": "display_data"
    }
   ],
   "source": [
    "monthly_trend.plot(kind = 'line', marker = 'o', color = 'brown', markerfacecolor = 'orange')\n",
    "plt.xticks(ticks=range(len(monthly_trend)), labels=monthly_trend.index, rotation=45, ha='right')\n",
    "plt.title('Monthly trend of the total amount')\n",
    "plt.ylabel('claim_amount')\n",
    "plt.tight_layout()\n",
    "plt.show()"
   ]
  },
  {
   "cell_type": "code",
   "execution_count": 62,
   "id": "d21a8ac2",
   "metadata": {},
   "outputs": [],
   "source": [
    "# 15.What is the average claim amount for gender and age categories and suitably represent the above using a \n",
    "#facetted bar chart, one facet that represents fraudulent claims and the other for non-fraudulent claims."
   ]
  },
  {
   "cell_type": "code",
   "execution_count": 63,
   "id": "6c037e5e",
   "metadata": {},
   "outputs": [
    {
     "name": "stderr",
     "output_type": "stream",
     "text": [
      "C:\\Users\\sandisk\\AnacondaPy\\Lib\\site-packages\\seaborn\\axisgrid.py:118: UserWarning: The figure layout has changed to tight\n",
      "  self._figure.tight_layout(*args, **kwargs)\n",
      "C:\\Users\\sandisk\\AppData\\Local\\Temp\\ipykernel_9416\\269451395.py:6: UserWarning: The figure layout has changed to tight\n",
      "  plt.tight_layout()\n"
     ]
    },
    {
     "data": {
      "image/png": "[encoded data removed]",
      "text/plain": [
       "<Figure size 1600.25x500 with 2 Axes>"
      ]
     },
     "metadata": {},
     "output_type": "display_data"
    }
   ],
   "source": [
    "grouped_data = df.groupby(['gender', 'Age_category', 'fraudulent'])['claim_amount'].mean().reset_index()\n",
    "\n",
    "sns.catplot(data=grouped_data, x='Age_category', y='claim_amount', hue='gender', col='fraudulent', kind='bar',height = 5, aspect = 1.5)\n",
    "\n",
    "plt.suptitle('Average Claim Amount by Gender and Age Category')\n",
    "plt.tight_layout()\n",
    "plt.show()\n"
   ]
  },
  {
   "cell_type": "markdown",
   "id": "80f7213b",
   "metadata": {},
   "source": [
    "## Stastical Tests"
   ]
  },
  {
   "cell_type": "markdown",
   "id": "255b5738",
   "metadata": {},
   "source": [
    "###### 16. Is there any similarity in the amount claimed by males and females?"
   ]
  },
  {
   "cell_type": "code",
   "execution_count": 64,
   "id": "b6422b66",
   "metadata": {},
   "outputs": [],
   "source": [
    "#Step 1: Hypothesis testing\n",
    "\n",
    "#Null Hypothesis\n",
    "#Ho: Amount claimed by Males and Females are similar\n",
    "\n",
    "#Alter Hypothesis\n",
    "#Ha: Amount claimed by Males <> Amount claimed by Females"
   ]
  },
  {
   "cell_type": "code",
   "execution_count": 65,
   "id": "e51dd308",
   "metadata": {},
   "outputs": [],
   "source": [
    "#Step 2 : T-Test(Two sample independend)"
   ]
  },
  {
   "cell_type": "code",
   "execution_count": 66,
   "id": "02bc0fc9",
   "metadata": {},
   "outputs": [],
   "source": [
    "#Step 3 :  Choosing CI - 95% (0.95)\n",
    "#Error : 5% (0.05)- alpha value"
   ]
  },
  {
   "cell_type": "code",
   "execution_count": 67,
   "id": "d080439c",
   "metadata": {},
   "outputs": [],
   "source": [
    "#Step 4 : Calculating the test statistic"
   ]
  },
  {
   "cell_type": "code",
   "execution_count": 68,
   "id": "9204ece0",
   "metadata": {},
   "outputs": [],
   "source": [
    "male_amount = df.loc[df['gender']=='Male','claim_amount']"
   ]
  },
  {
   "cell_type": "code",
   "execution_count": 69,
   "id": "4115ad0f",
   "metadata": {},
   "outputs": [],
   "source": [
    "female_amount = df.loc[df['gender']=='Female','claim_amount']"
   ]
  },
  {
   "cell_type": "code",
   "execution_count": 70,
   "id": "444e7850",
   "metadata": {},
   "outputs": [
    {
     "data": {
      "text/plain": [
       "TtestResult(statistic=0.9104294436733797, pvalue=0.36279462510635385, df=1105.0)"
      ]
     },
     "execution_count": 70,
     "metadata": {},
     "output_type": "execute_result"
    }
   ],
   "source": [
    "stats.ttest_ind(a = male_amount, b = female_amount)"
   ]
  },
  {
   "cell_type": "code",
   "execution_count": 71,
   "id": "bfa099f5",
   "metadata": {},
   "outputs": [],
   "source": [
    "#Step 5 : Conclusion\n",
    "\n",
    "#The value of p is 0.36279 is greater than the alpha value 0.05\n",
    "#We fail to reject Null hypothesis and amount claimed by males and females are statistically "
   ]
  },
  {
   "cell_type": "markdown",
   "id": "5852a557",
   "metadata": {},
   "source": [
    "###### 17. Is there any relationship between age category and segment?"
   ]
  },
  {
   "cell_type": "code",
   "execution_count": 72,
   "id": "7edc66d1",
   "metadata": {},
   "outputs": [],
   "source": [
    "#Step 1 : Hypothesis testing\n",
    "\n",
    "#Null Hypothesis\n",
    "#Ho: Age category and segment are statistically independent\n",
    "\n",
    "#Alternate Hypothesis\n",
    "#Ha: Age category and segment are statistically associated"
   ]
  },
  {
   "cell_type": "code",
   "execution_count": 73,
   "id": "32fa4e37",
   "metadata": {},
   "outputs": [],
   "source": [
    "#Step 2: Test Statistic\n",
    "\n",
    "#Non_Parametric tests - Chisquare(Test of independence)"
   ]
  },
  {
   "cell_type": "code",
   "execution_count": 74,
   "id": "4ae26ba6",
   "metadata": {},
   "outputs": [],
   "source": [
    "#Step 3: CI - 95% (0.95)\n",
    "#Error region - 5% (0.05) - alpha value"
   ]
  },
  {
   "cell_type": "code",
   "execution_count": 75,
   "id": "1b1bb536",
   "metadata": {},
   "outputs": [],
   "source": [
    "#Step 4: Calculating the test statistic"
   ]
  },
  {
   "cell_type": "code",
   "execution_count": 76,
   "id": "666445a6",
   "metadata": {},
   "outputs": [
    {
     "data": {
      "text/html": [
       "<div>\n",
       "<style scoped>\n",
       "    .dataframe tbody tr th:only-of-type {\n",
       "        vertical-align: middle;\n",
       "    }\n",
       "\n",
       "    .dataframe tbody tr th {\n",
       "        vertical-align: top;\n",
       "    }\n",
       "\n",
       "    .dataframe thead th {\n",
       "        text-align: right;\n",
       "    }\n",
       "</style>\n",
       "<table border=\"1\" class=\"dataframe\">\n",
       "  <thead>\n",
       "    <tr style=\"text-align: right;\">\n",
       "      <th></th>\n",
       "      <th>Age_category</th>\n",
       "      <th>Segment</th>\n",
       "    </tr>\n",
       "  </thead>\n",
       "  <tbody>\n",
       "    <tr>\n",
       "      <th>0</th>\n",
       "      <td>Adult</td>\n",
       "      <td>Platinum</td>\n",
       "    </tr>\n",
       "    <tr>\n",
       "      <th>1</th>\n",
       "      <td>Adult</td>\n",
       "      <td>Silver</td>\n",
       "    </tr>\n",
       "    <tr>\n",
       "      <th>2</th>\n",
       "      <td>Adult</td>\n",
       "      <td>Silver</td>\n",
       "    </tr>\n",
       "    <tr>\n",
       "      <th>3</th>\n",
       "      <td>Adult</td>\n",
       "      <td>Silver</td>\n",
       "    </tr>\n",
       "    <tr>\n",
       "      <th>4</th>\n",
       "      <td>Adult</td>\n",
       "      <td>Silver</td>\n",
       "    </tr>\n",
       "    <tr>\n",
       "      <th>...</th>\n",
       "      <td>...</td>\n",
       "      <td>...</td>\n",
       "    </tr>\n",
       "    <tr>\n",
       "      <th>1102</th>\n",
       "      <td>Children</td>\n",
       "      <td>Gold</td>\n",
       "    </tr>\n",
       "    <tr>\n",
       "      <th>1103</th>\n",
       "      <td>Children</td>\n",
       "      <td>Gold</td>\n",
       "    </tr>\n",
       "    <tr>\n",
       "      <th>1104</th>\n",
       "      <td>Children</td>\n",
       "      <td>Gold</td>\n",
       "    </tr>\n",
       "    <tr>\n",
       "      <th>1105</th>\n",
       "      <td>Children</td>\n",
       "      <td>Gold</td>\n",
       "    </tr>\n",
       "    <tr>\n",
       "      <th>1106</th>\n",
       "      <td>Children</td>\n",
       "      <td>Gold</td>\n",
       "    </tr>\n",
       "  </tbody>\n",
       "</table>\n",
       "<p>1107 rows × 2 columns</p>\n",
       "</div>"
      ],
      "text/plain": [
       "     Age_category   Segment\n",
       "0           Adult  Platinum\n",
       "1           Adult    Silver\n",
       "2           Adult    Silver\n",
       "3           Adult    Silver\n",
       "4           Adult    Silver\n",
       "...           ...       ...\n",
       "1102     Children      Gold\n",
       "1103     Children      Gold\n",
       "1104     Children      Gold\n",
       "1105     Children      Gold\n",
       "1106     Children      Gold\n",
       "\n",
       "[1107 rows x 2 columns]"
      ]
     },
     "execution_count": 76,
     "metadata": {},
     "output_type": "execute_result"
    }
   ],
   "source": [
    "df[['Age_category','Segment']]"
   ]
  },
  {
   "cell_type": "code",
   "execution_count": 77,
   "id": "7970eefc",
   "metadata": {},
   "outputs": [
    {
     "data": {
      "text/html": [
       "<div>\n",
       "<style scoped>\n",
       "    .dataframe tbody tr th:only-of-type {\n",
       "        vertical-align: middle;\n",
       "    }\n",
       "\n",
       "    .dataframe tbody tr th {\n",
       "        vertical-align: top;\n",
       "    }\n",
       "\n",
       "    .dataframe thead th {\n",
       "        text-align: right;\n",
       "    }\n",
       "</style>\n",
       "<table border=\"1\" class=\"dataframe\">\n",
       "  <thead>\n",
       "    <tr style=\"text-align: right;\">\n",
       "      <th>Age_category</th>\n",
       "      <th>Children</th>\n",
       "      <th>Youth</th>\n",
       "      <th>Adult</th>\n",
       "    </tr>\n",
       "    <tr>\n",
       "      <th>Segment</th>\n",
       "      <th></th>\n",
       "      <th></th>\n",
       "      <th></th>\n",
       "    </tr>\n",
       "  </thead>\n",
       "  <tbody>\n",
       "    <tr>\n",
       "      <th>Gold</th>\n",
       "      <td>15</td>\n",
       "      <td>48</td>\n",
       "      <td>328</td>\n",
       "    </tr>\n",
       "    <tr>\n",
       "      <th>Platinum</th>\n",
       "      <td>0</td>\n",
       "      <td>44</td>\n",
       "      <td>321</td>\n",
       "    </tr>\n",
       "    <tr>\n",
       "      <th>Silver</th>\n",
       "      <td>0</td>\n",
       "      <td>50</td>\n",
       "      <td>301</td>\n",
       "    </tr>\n",
       "  </tbody>\n",
       "</table>\n",
       "</div>"
      ],
      "text/plain": [
       "Age_category  Children  Youth  Adult\n",
       "Segment                             \n",
       "Gold                15     48    328\n",
       "Platinum             0     44    321\n",
       "Silver               0     50    301"
      ]
     },
     "execution_count": 77,
     "metadata": {},
     "output_type": "execute_result"
    }
   ],
   "source": [
    "pd.crosstab(index = df['Segment'], columns = df['Age_category'])"
   ]
  },
  {
   "cell_type": "code",
   "execution_count": 78,
   "id": "5fb7a45f",
   "metadata": {},
   "outputs": [
    {
     "data": {
      "text/plain": [
       "Chi2ContingencyResult(statistic=28.642811277339558, pvalue=9.238281017407058e-06, dof=4, expected_freq=array([[  5.29810298,  50.15537489, 335.54652213],\n",
       "       [  4.94579946,  46.82023487, 313.23396567],\n",
       "       [  4.75609756,  45.02439024, 301.2195122 ]]))"
      ]
     },
     "execution_count": 78,
     "metadata": {},
     "output_type": "execute_result"
    }
   ],
   "source": [
    "stats.chi2_contingency(pd.crosstab(index = df['Segment'], columns = df['Age_category']))"
   ]
  },
  {
   "cell_type": "code",
   "execution_count": 79,
   "id": "5ffd53ff",
   "metadata": {},
   "outputs": [],
   "source": [
    "#The value of dof(degrees of freedom) is 4\n",
    "#p-value = 0.000009238281"
   ]
  },
  {
   "cell_type": "code",
   "execution_count": 80,
   "id": "e8b57244",
   "metadata": {},
   "outputs": [],
   "source": [
    "#Step 5: Conclusion\n",
    "\n",
    "#We fail to reject alternate hypothesis\n",
    "#Age category and Segment are statistically associated"
   ]
  },
  {
   "cell_type": "markdown",
   "id": "10b3a8df",
   "metadata": {},
   "source": [
    "###### 18. The current year has shown a significant rise in claim amounts as compared to 2016-17 fiscal average which was $10,000."
   ]
  },
  {
   "cell_type": "code",
   "execution_count": null,
   "id": "d72d8d92",
   "metadata": {},
   "outputs": [],
   "source": [
    "#Step 1: Hypothesis testing\n",
    "\n",
    "#Null Hypothesis\n",
    "#Ho:  Current year mean claim amount is same as 2016-2017 claim amount\n",
    "\n",
    "#Alternate Hypothesis\n",
    "#Ha: Current year mean claim amount is greater than 2016-2017 claim amount"
   ]
  },
  {
   "cell_type": "code",
   "execution_count": null,
   "id": "d718997a",
   "metadata": {},
   "outputs": [],
   "source": [
    "#Step 2: Test Statistic\n",
    "\n",
    "#One sample t-test"
   ]
  },
  {
   "cell_type": "code",
   "execution_count": null,
   "id": "6770b823",
   "metadata": {},
   "outputs": [],
   "source": [
    "#Step 3:  Choosing CI(Confidence interval) - 95% - 0.95\n",
    "#Error region is 5% - 0.05"
   ]
  },
  {
   "cell_type": "code",
   "execution_count": null,
   "id": "b28ad42e",
   "metadata": {},
   "outputs": [],
   "source": [
    "#Step 4: Calculating the test statistic"
   ]
  },
  {
   "cell_type": "code",
   "execution_count": 84,
   "id": "cdba3ec1",
   "metadata": {},
   "outputs": [],
   "source": [
    "current_year = df['claim_date'].dt.year.max()\n",
    "\n",
    "current_year_df = df[df['claim_date'].dt.year == current_year]\n",
    "\n",
    "\n",
    "current_year_mean = current_year_df['claim_amount'].mean()"
   ]
  },
  {
   "cell_type": "code",
   "execution_count": 85,
   "id": "47aca855",
   "metadata": {},
   "outputs": [],
   "source": [
    "fiscal_average = 10000"
   ]
  },
  {
   "cell_type": "code",
   "execution_count": 86,
   "id": "90972556",
   "metadata": {},
   "outputs": [
    {
     "data": {
      "text/plain": [
       "TtestResult(statistic=4.359707103269084, pvalue=1.5862380370283368e-05, df=493)"
      ]
     },
     "execution_count": 86,
     "metadata": {},
     "output_type": "execute_result"
    }
   ],
   "source": [
    "stats.ttest_1samp(current_year_df['claim_amount'], fiscal_average)"
   ]
  },
  {
   "cell_type": "code",
   "execution_count": null,
   "id": "238e38ef",
   "metadata": {},
   "outputs": [],
   "source": [
    "#Step 5: Conclusion\n",
    "\n",
    "# The p value is 0.000015862380370\n",
    "# We fail to reject the alternate Hypothesis\n",
    "# Current year mean claim amount is greater than 2016-2017 claim amount"
   ]
  },
  {
   "cell_type": "markdown",
   "id": "6229c7e8",
   "metadata": {},
   "source": [
    "###### 19. Is there any difference between age groups and insurance claims?"
   ]
  },
  {
   "cell_type": "code",
   "execution_count": null,
   "id": "9f326097",
   "metadata": {},
   "outputs": [],
   "source": [
    "#Step 1: Hypothesis testing\n",
    "\n",
    "#Null Hypothesis\n",
    "#Ho: Age groups and insurance claim are statistically significant\n",
    "\n",
    "#Alternate Hypothesis\n",
    "#Ha: Age groups and insurance claim are not statistically significant"
   ]
  },
  {
   "cell_type": "code",
   "execution_count": null,
   "id": "3e320bcd",
   "metadata": {},
   "outputs": [],
   "source": [
    "#Step 2: Test statistic\n",
    "\n",
    "#Annova - f test"
   ]
  },
  {
   "cell_type": "code",
   "execution_count": null,
   "id": "2e0d0226",
   "metadata": {},
   "outputs": [],
   "source": [
    "#Step 3 : CI- 95% - 0.95\n",
    "#Error: 5% - 0.05 - alpha value"
   ]
  },
  {
   "cell_type": "code",
   "execution_count": null,
   "id": "fee0e700",
   "metadata": {},
   "outputs": [],
   "source": [
    "#Step 4: Calculate test statistic"
   ]
  },
  {
   "cell_type": "code",
   "execution_count": 113,
   "id": "7ec1e853",
   "metadata": {},
   "outputs": [],
   "source": [
    "s_1 = df.loc[df['Age_category']=='Children','claim_amount']\n",
    "s_2 = df.loc[df['Age_category']=='Youth','claim_amount']\n",
    "s_3 = df.loc[df['Age_category']=='Adult','claim_amount']"
   ]
  },
  {
   "cell_type": "code",
   "execution_count": 114,
   "id": "c782cfb3",
   "metadata": {},
   "outputs": [
    {
     "data": {
      "text/plain": [
       "F_onewayResult(statistic=0.22067465971100902, pvalue=0.8020129199473196)"
      ]
     },
     "execution_count": 114,
     "metadata": {},
     "output_type": "execute_result"
    }
   ],
   "source": [
    "stats.f_oneway(s_1,s_2,s_3)"
   ]
  },
  {
   "cell_type": "code",
   "execution_count": null,
   "id": "66692626",
   "metadata": {},
   "outputs": [],
   "source": [
    "#Step 5: Conclusion\n",
    "\n",
    "#The p_value is 0.8020129199473196\n",
    "#We fail to reject null hypothesis\n",
    "#Age groups and insurance claim are statistically significant"
   ]
  },
  {
   "cell_type": "markdown",
   "id": "6f2694fc",
   "metadata": {},
   "source": [
    "###### 20. Is there any relationship between total number of policy claims and the claimed amount?"
   ]
  },
  {
   "cell_type": "code",
   "execution_count": null,
   "id": "e8189749",
   "metadata": {},
   "outputs": [],
   "source": [
    "#Step 1: Hypothesis testing\n",
    "\n",
    "#Null Hypothesis\n",
    "#Ho: Total number of policy claims and the claimed amount are statistically independent\n",
    "\n",
    "#Alternate Hypothesis\n",
    "#Ha: Total number of policy claims and the claimed amount are not statistically independent"
   ]
  },
  {
   "cell_type": "code",
   "execution_count": null,
   "id": "401fe443",
   "metadata": {},
   "outputs": [],
   "source": [
    "#Step 2: Test Statistic\n",
    "\n",
    "#Correlation\n",
    "# Pearson correlation coefficient(r)"
   ]
  },
  {
   "cell_type": "code",
   "execution_count": null,
   "id": "c0fa5f6c",
   "metadata": {},
   "outputs": [],
   "source": [
    "#Step 3: CI- 95% - 0.95\n",
    "#Error: 5% - 0.05 - alpha value"
   ]
  },
  {
   "cell_type": "code",
   "execution_count": null,
   "id": "e6a33a08",
   "metadata": {},
   "outputs": [],
   "source": [
    "#Step 4: Calculating the test statistic"
   ]
  },
  {
   "cell_type": "code",
   "execution_count": 116,
   "id": "954289b2",
   "metadata": {},
   "outputs": [
    {
     "data": {
      "text/plain": [
       "PearsonRResult(statistic=-0.019490781428136848, pvalue=0.5171023067319807)"
      ]
     },
     "execution_count": 116,
     "metadata": {},
     "output_type": "execute_result"
    }
   ],
   "source": [
    "stats.pearsonr(df['total_policy_claims'], df['claim_amount'])"
   ]
  },
  {
   "cell_type": "code",
   "execution_count": null,
   "id": "601c6ee2",
   "metadata": {},
   "outputs": [],
   "source": [
    "#Step 5: Conclusion\n",
    "\n",
    "#The p_value is 0.5171023067319807\n",
    "#We fail to reject Null Hypothesis\n",
    "#Total number of policy claims and the claimed amount are statistically independent"
   ]
  },
  {
   "cell_type": "code",
   "execution_count": 4,
   "id": "edaed2a7",
   "metadata": {},
   "outputs": [
    {
     "ename": "IndentationError",
     "evalue": "expected an indented block after 'if' statement on line 2 (3243940870.py, line 3)",
     "output_type": "error",
     "traceback": [
      "\u001b[1;36m  Cell \u001b[1;32mIn[4], line 3\u001b[1;36m\u001b[0m\n\u001b[1;33m    print(i)\u001b[0m\n\u001b[1;37m            ^\u001b[0m\n\u001b[1;31mIndentationError\u001b[0m\u001b[1;31m:\u001b[0m expected an indented block after 'if' statement on line 2\n"
     ]
    }
   ],
   "source": [
    "for i in range(1,101):\n",
    "    if int(i*0.5)==i*0.5:\n",
    "print(i)"
   ]
  },
  {
   "cell_type": "code",
   "execution_count": 7,
   "id": "e892403d",
   "metadata": {},
   "outputs": [],
   "source": [
    "i=1\n",
    "while False:\n",
    "    if i%2==0:\n",
    "        break \n",
    "        print(i)\n",
    "        i+=2"
   ]
  },
  {
   "cell_type": "code",
   "execution_count": 8,
   "id": "83b5a1f9",
   "metadata": {},
   "outputs": [
    {
     "name": "stdout",
     "output_type": "stream",
     "text": [
      "1\n"
     ]
    }
   ],
   "source": [
    "print(i)"
   ]
  },
  {
   "cell_type": "code",
   "execution_count": null,
   "id": "a92764f0",
   "metadata": {},
   "outputs": [
    {
     "name": "stdout",
     "output_type": "stream",
     "text": [
      "Enter file nameyou\n",
      "Input file not found\n",
      "Enter file namethe\n",
      "Input file not found\n",
      "Input file not found\n",
      "Input file not found\n"
     ]
    }
   ],
   "source": [
    "a=False\n",
    "while not a:\n",
    "    try:\n",
    "        f_n = input(\"Enter file name\")\n",
    "        i_f = open(f_n, 'r')\n",
    "    except:\n",
    "        print(\"Input file not found\")"
   ]
  },
  {
   "cell_type": "code",
   "execution_count": null,
   "id": "d016de6d",
   "metadata": {},
   "outputs": [],
   "source": [
    "x = [34, 56]\n",
    "print((''.join(list(map(str, x)))),)\n"
   ]
  },
  {
   "cell_type": "code",
   "execution_count": null,
   "id": "78088ccc",
   "metadata": {},
   "outputs": [],
   "source": []
  },
  {
   "cell_type": "code",
   "execution_count": null,
   "id": "adb1cff6",
   "metadata": {},
   "outputs": [],
   "source": []
  }
 ],
 "metadata": {
  "kernelspec": {
   "display_name": "Python 3 (ipykernel)",
   "language": "python",
   "name": "python3"
  },
  "language_info": {
   "codemirror_mode": {
    "name": "ipython",
    "version": 3
   },
   "file_extension": ".py",
   "mimetype": "text/x-python",
   "name": "python",
   "nbconvert_exporter": "python",
   "pygments_lexer": "ipython3",
   "version": "3.11.5"
  }
 },
 "nbformat": 4,
 "nbformat_minor": 5
}
